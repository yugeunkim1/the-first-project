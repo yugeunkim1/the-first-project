{
  "nbformat": 4,
  "nbformat_minor": 0,
  "metadata": {
    "colab": {
      "provenance": []
    },
    "kernelspec": {
      "name": "python3",
      "display_name": "Python 3"
    },
    "language_info": {
      "name": "python"
    }
  },
  "cells": [
    {
      "cell_type": "code",
      "execution_count": null,
      "metadata": {
        "id": "uk84JxPpJmCe"
      },
      "outputs": [],
      "source": [
        "import requests"
      ]
    },
    {
      "cell_type": "code",
      "source": [
        "atpt_ofcdc_sc_code = \"J10\"\n",
        "sd_schul_code = \"7530766\"\n",
        "year = 2024\n",
        "month = 6\n",
        "day = 13\n",
        "api_key = \"7034d0848245433fac35e7ed077e2a0f\"\n",
        "def mael(atpt_ofcdc_sc_code, sd_schul_cod, year, month, day, api_key):\n",
        "  url = \"https://open.neis.go.kr/hub/mealServiceDietInfo\"\n",
        "\n",
        "\n",
        "  params = {\n",
        "        \"ATPT_OFCDC_SC_CODE\": atpt_ofcdc_sc_code,\n",
        "        \"SD_SCHUL_CODE\": sd_schul_code,\n",
        "        \"MLSV_YMD\": f\"{year}{month:02d}{day:02d}\",\n",
        "        \"KEY\": api_key,\n",
        "        \"Type\": \"json\"\n",
        "    }\n",
        "\n",
        "  try:\n",
        "        response = requests.get(url, params=params)\n",
        "        response.raise_for_status()  # 상태 코드가 나쁜 경우 오류를 발생시킵니다\n",
        "        meal_data = response.json().get('mealServiceDietInfo')[1]['row'][0]\n",
        "        return meal_data\n",
        "  except requests.exceptions.RequestException as e:\n",
        "        print(f\"요청 오류: {e}\")\n",
        "        return None\n",
        "  except (IndexError, KeyError) as e:\n",
        "        print(f\"데이터 오류: {e}\")\n",
        "        return None\n",
        "\n",
        "\n",
        "\n",
        "  meal = mael(atpt_ofcdc_sc_code, sd_schul_code, year, month, day, api_key)\n",
        "  if meal:\n",
        "    print(meal[\"DDISH_NM\"])\n",
        "  else:\n",
        "    print(\"급식 데이터를 가져오지 못했습니다.\")\n"
      ],
      "metadata": {
        "id": "CUCrPNaXWbKO"
      },
      "execution_count": null,
      "outputs": []
    }
  ]
}